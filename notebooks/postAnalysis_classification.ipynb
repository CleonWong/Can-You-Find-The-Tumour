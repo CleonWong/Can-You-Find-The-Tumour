{
 "cells": [
  {
   "cell_type": "code",
   "execution_count": 1,
   "metadata": {},
   "outputs": [],
   "source": [
    "import pandas as pd\n",
    "import numpy as np\n",
    "import matplotlib.pyplot as plt"
   ]
  },
  {
   "cell_type": "code",
   "execution_count": 2,
   "metadata": {},
   "outputs": [],
   "source": [
    "pred_df = pd.read_csv(\"../results/classification/20201221_064530_INSTANCE/predicted_outputs/predicted_proba.csv\", header=0)"
   ]
  },
  {
   "cell_type": "code",
   "execution_count": 30,
   "metadata": {},
   "outputs": [],
   "source": [
    "mass_df = pred_df.loc[pred_df[\"label\"]==\"mass\", :].sort_values(by=\"predicted_proba\", ascending=False)\n",
    "calc_df = pred_df.loc[pred_df[\"label\"]==\"calc\", :].sort_values(by=\"predicted_proba\", ascending=True)\n",
    "\n",
    "best50_mass_df = mass_df.iloc[0:50, :]\n",
    "best50_calc_df = calc_df.iloc[0:50, :]\n",
    "\n",
    "worst50_mass_df = mass_df.iloc[-50:, :]\n",
    "worst50_calc_df = calc_df.iloc[-50:, :]"
   ]
  },
  {
   "cell_type": "code",
   "execution_count": 33,
   "metadata": {},
   "outputs": [],
   "source": [
    "best50_mass_df.to_csv(\"../results/classification/20201221_064530_INSTANCE/predicted_outputs/best50_mass_pred.csv\", index=False)\n",
    "best50_calc_df.to_csv(\"../results/classification/20201221_064530_INSTANCE/predicted_outputs/best50_calc_pred.csv\", index=False)\n",
    "\n",
    "worst50_mass_df.to_csv(\"../results/classification/20201221_064530_INSTANCE/predicted_outputs/worst50_mass_pred.csv\", index=False)\n",
    "worst50_calc_df.to_csv(\"../results/classification/20201221_064530_INSTANCE/predicted_outputs/worst50_calc_pred.csv\", index=False)"
   ]
  },
  {
   "cell_type": "code",
   "execution_count": null,
   "metadata": {},
   "outputs": [],
   "source": []
  }
 ],
 "metadata": {
  "kernelspec": {
   "display_name": "Python 3",
   "language": "python",
   "name": "python3"
  },
  "language_info": {
   "codemirror_mode": {
    "name": "ipython",
    "version": 3
   },
   "file_extension": ".py",
   "mimetype": "text/x-python",
   "name": "python",
   "nbconvert_exporter": "python",
   "pygments_lexer": "ipython3",
   "version": "3.8.6"
  }
 },
 "nbformat": 4,
 "nbformat_minor": 4
}
