{
 "cells": [
  {
   "cell_type": "code",
   "execution_count": null,
   "metadata": {},
   "outputs": [],
   "source": [
    "@lD.log(logBase + \".plotBatch\")\n",
    "    def plotBatch(logger, self, batch_of_x, batch_of_y, save_to_dir):\n",
    "        \"\"\"Show side-by-side an input image,\n",
    "        the ground truth and the prediction.\n",
    "        \"\"\"\n",
    "\n",
    "        try:\n",
    "            # Convert to numpy array.\n",
    "            batch_of_x = batch_of_x.numpy()\n",
    "            batch_of_y = batch_of_y.numpy()\n",
    "\n",
    "            # Batch size.\n",
    "            batch_size = batch_of_x.shape[0]\n",
    "\n",
    "            # Create fig and ax (figsize=(w, h)).\n",
    "            fig, ax = plt.subplots(\n",
    "                nrows=batch_size, ncols=2, figsize=(10, 5 * batch_size)\n",
    "            )\n",
    "\n",
    "            for i in range(batch_size):\n",
    "                # Plot x\n",
    "                ax[i][0].imshow(batch_of_x[i])\n",
    "                ax[i][0].get_xaxis().set_visible(False)\n",
    "                ax[i][0].get_yaxis().set_visible(False)\n",
    "                # Plot y\n",
    "                ax[i][1].imshow(batch_of_y[i])\n",
    "                ax[i][1].get_xaxis().set_visible(False)\n",
    "                ax[i][1].get_yaxis().set_visible(False)\n",
    "\n",
    "            plt.tight_layout()\n",
    "\n",
    "            # Save\n",
    "            plt.savefig(fname=save_to_dir, dpi=300)\n",
    "\n",
    "        except Exception as e:\n",
    "            # logger.error(f'Unable to plotBatch!\\n{e}')\n",
    "            print((f\"Unable to plotBatch!\\n{e}\"))\n"
   ]
  }
 ],
 "metadata": {
  "kernelspec": {
   "display_name": "Python 3",
   "language": "python",
   "name": "python3"
  },
  "language_info": {
   "codemirror_mode": {
    "name": "ipython",
    "version": 3
   },
   "file_extension": ".py",
   "mimetype": "text/x-python",
   "name": "python",
   "nbconvert_exporter": "python",
   "pygments_lexer": "ipython3",
   "version": "3.8.6"
  }
 },
 "nbformat": 4,
 "nbformat_minor": 4
}
