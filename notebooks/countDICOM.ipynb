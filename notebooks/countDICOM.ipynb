{
 "cells": [
  {
   "cell_type": "code",
   "execution_count": 1,
   "metadata": {},
   "outputs": [],
   "source": [
    "import os"
   ]
  },
  {
   "cell_type": "markdown",
   "metadata": {},
   "source": [
    "# 1. Before running `./extractDICOM.bash`"
   ]
  },
  {
   "cell_type": "markdown",
   "metadata": {},
   "source": [
    "## To count the number of .dcm files in `Mass/Train` and `Mass/Test`.\n",
    "\n",
    "- This serves as a check after extracting the .dcm files, to make sure that no .dcm files are left out / deleted."
   ]
  },
  {
   "cell_type": "code",
   "execution_count": 6,
   "metadata": {},
   "outputs": [
    {
     "name": "stdout",
     "output_type": "stream",
     "text": [
      "Number of .dcm files in Test: 1106\n",
      "Number of .dcm files in Train: 3867\n"
     ]
    }
   ],
   "source": [
    "dcm_count_test_list = []\n",
    "dcm_count_train_list = []\n",
    "\n",
    "\n",
    "# Count number of .dcm files in ../data/Mass/Test.\n",
    "for rootdir, dirs, files in os.walk(\"../data/Mass/Test\"):\n",
    "    for f in files:\n",
    "        if f.endswith(\".dcm\"):\n",
    "            dcm_count_test_list.append(f)\n",
    "\n",
    "# Count number of .dcm files in ../data/Mass/Train.\n",
    "for rootdir, dirs, files in os.walk(\"../data/Mass/Train\"):\n",
    "    for f in files:\n",
    "        if f.endswith(\".dcm\"):\n",
    "            dcm_count_train_list.append(f)\n",
    "            \n",
    "dcm_test_before = len(dcm_count_test_list)\n",
    "dcm_train_before = len(dcm_count_train_list)\n",
    "\n",
    "print(f\"BEFORE --> Number of .dcm files in Test: {dcm_test_before}\")\n",
    "print(f\"BEFORE --> Number of .dcm files in Train: {dcm_train_before}\")"
   ]
  },
  {
   "cell_type": "markdown",
   "metadata": {},
   "source": [
    "---\n",
    "\n",
    "# 2. After running `./extractDICOM.bash`"
   ]
  },
  {
   "cell_type": "code",
   "execution_count": 8,
   "metadata": {},
   "outputs": [
    {
     "name": "stdout",
     "output_type": "stream",
     "text": [
      "AFTER --> Number of .dcm files in Test: 1106\n"
     ]
    }
   ],
   "source": [
    "dcm_test_after = sum([len(files) for r, d, files in os.walk(\"../data/Mass/Test\")])\n",
    "print(f\"AFTER --> Number of .dcm files in Test: {dcm_test_after}\")"
   ]
  },
  {
   "cell_type": "code",
   "execution_count": 10,
   "metadata": {},
   "outputs": [
    {
     "name": "stdout",
     "output_type": "stream",
     "text": [
      "AFTER --> Number of .dcm files in Train: 3775\n"
     ]
    }
   ],
   "source": [
    "dcm_train_after = sum([len(files) for r, d, files in os.walk(\"../data/Mass/Train\")])\n",
    "print(f\"AFTER --> Number of .dcm files in Train: {dcm_train_after}\")"
   ]
  },
  {
   "cell_type": "code",
   "execution_count": 11,
   "metadata": {},
   "outputs": [
    {
     "data": {
      "text/plain": [
       "192"
      ]
     },
     "execution_count": 11,
     "metadata": {},
     "output_type": "execute_result"
    }
   ],
   "source": [
    "3967-3775"
   ]
  },
  {
   "cell_type": "code",
   "execution_count": null,
   "metadata": {},
   "outputs": [],
   "source": []
  }
 ],
 "metadata": {
  "kernelspec": {
   "display_name": "Python 3",
   "language": "python",
   "name": "python3"
  },
  "language_info": {
   "codemirror_mode": {
    "name": "ipython",
    "version": 3
   },
   "file_extension": ".py",
   "mimetype": "text/x-python",
   "name": "python",
   "nbconvert_exporter": "python",
   "pygments_lexer": "ipython3",
   "version": "3.8.2"
  }
 },
 "nbformat": 4,
 "nbformat_minor": 4
}
